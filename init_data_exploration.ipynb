{
 "cells": [
  {
   "cell_type": "markdown",
   "metadata": {},
   "source": [
    "# Initial Data Exploration"
   ]
  },
  {
   "cell_type": "code",
   "execution_count": 2,
   "metadata": {},
   "outputs": [],
   "source": [
    "import pandas as pd\n",
    "import numpy as np\n",
    "import seaborn as sb"
   ]
  },
  {
   "cell_type": "code",
   "execution_count": 5,
   "metadata": {},
   "outputs": [
    {
     "data": {
      "text/html": [
       "<div>\n",
       "<style scoped>\n",
       "    .dataframe tbody tr th:only-of-type {\n",
       "        vertical-align: middle;\n",
       "    }\n",
       "\n",
       "    .dataframe tbody tr th {\n",
       "        vertical-align: top;\n",
       "    }\n",
       "\n",
       "    .dataframe thead th {\n",
       "        text-align: right;\n",
       "    }\n",
       "</style>\n",
       "<table border=\"1\" class=\"dataframe\">\n",
       "  <thead>\n",
       "    <tr style=\"text-align: right;\">\n",
       "      <th></th>\n",
       "      <th>Unnamed: 0</th>\n",
       "      <th>title</th>\n",
       "      <th>score</th>\n",
       "      <th>id</th>\n",
       "      <th>subreddit</th>\n",
       "      <th>url</th>\n",
       "      <th>num_comments</th>\n",
       "      <th>body</th>\n",
       "      <th>created</th>\n",
       "    </tr>\n",
       "  </thead>\n",
       "  <tbody>\n",
       "    <tr>\n",
       "      <th>0</th>\n",
       "      <td>0</td>\n",
       "      <td>So real talk. Why are so may $30k to $40k per ...</td>\n",
       "      <td>12257</td>\n",
       "      <td>9u3fww</td>\n",
       "      <td>jobs</td>\n",
       "      <td>https://www.reddit.com/r/jobs/comments/9u3fww/...</td>\n",
       "      <td>3980</td>\n",
       "      <td>It just seems odd that when I go on job boards...</td>\n",
       "      <td>1.541368e+09</td>\n",
       "    </tr>\n",
       "    <tr>\n",
       "      <th>1</th>\n",
       "      <td>1</td>\n",
       "      <td>I'm an ex-recruiter for some of the top compan...</td>\n",
       "      <td>7261</td>\n",
       "      <td>7y8k6p</td>\n",
       "      <td>jobs</td>\n",
       "      <td>https://www.reddit.com/r/jobs/comments/7y8k6p/...</td>\n",
       "      <td>689</td>\n",
       "      <td>**April 5, 2020 edit:** I've been getting more...</td>\n",
       "      <td>1.518923e+09</td>\n",
       "    </tr>\n",
       "    <tr>\n",
       "      <th>2</th>\n",
       "      <td>2</td>\n",
       "      <td>A Warning About Glassdoor</td>\n",
       "      <td>5477</td>\n",
       "      <td>jbod57</td>\n",
       "      <td>jobs</td>\n",
       "      <td>https://www.reddit.com/r/jobs/comments/jbod57/...</td>\n",
       "      <td>470</td>\n",
       "      <td>**EDIT**: A little info from Glassdoor that I ...</td>\n",
       "      <td>1.602800e+09</td>\n",
       "    </tr>\n",
       "    <tr>\n",
       "      <th>3</th>\n",
       "      <td>3</td>\n",
       "      <td>America is not lacking in skilled employees, A...</td>\n",
       "      <td>3727</td>\n",
       "      <td>jo6lc7</td>\n",
       "      <td>jobs</td>\n",
       "      <td>https://www.reddit.com/r/jobs/comments/jo6lc7/...</td>\n",
       "      <td>354</td>\n",
       "      <td>If every entry level job requires a year exper...</td>\n",
       "      <td>1.604558e+09</td>\n",
       "    </tr>\n",
       "    <tr>\n",
       "      <th>4</th>\n",
       "      <td>4</td>\n",
       "      <td>UPDATE 3: I have slipped through the cracks at...</td>\n",
       "      <td>3569</td>\n",
       "      <td>3jjs1n</td>\n",
       "      <td>jobs</td>\n",
       "      <td>https://www.reddit.com/r/jobs/comments/3jjs1n/...</td>\n",
       "      <td>1264</td>\n",
       "      <td>Link to my original post: https://www.reddit.c...</td>\n",
       "      <td>1.441350e+09</td>\n",
       "    </tr>\n",
       "  </tbody>\n",
       "</table>\n",
       "</div>"
      ],
      "text/plain": [
       "   Unnamed: 0                                              title  score  \\\n",
       "0           0  So real talk. Why are so may $30k to $40k per ...  12257   \n",
       "1           1  I'm an ex-recruiter for some of the top compan...   7261   \n",
       "2           2                          A Warning About Glassdoor   5477   \n",
       "3           3  America is not lacking in skilled employees, A...   3727   \n",
       "4           4  UPDATE 3: I have slipped through the cracks at...   3569   \n",
       "\n",
       "       id subreddit                                                url  \\\n",
       "0  9u3fww      jobs  https://www.reddit.com/r/jobs/comments/9u3fww/...   \n",
       "1  7y8k6p      jobs  https://www.reddit.com/r/jobs/comments/7y8k6p/...   \n",
       "2  jbod57      jobs  https://www.reddit.com/r/jobs/comments/jbod57/...   \n",
       "3  jo6lc7      jobs  https://www.reddit.com/r/jobs/comments/jo6lc7/...   \n",
       "4  3jjs1n      jobs  https://www.reddit.com/r/jobs/comments/3jjs1n/...   \n",
       "\n",
       "   num_comments                                               body  \\\n",
       "0          3980  It just seems odd that when I go on job boards...   \n",
       "1           689  **April 5, 2020 edit:** I've been getting more...   \n",
       "2           470  **EDIT**: A little info from Glassdoor that I ...   \n",
       "3           354  If every entry level job requires a year exper...   \n",
       "4          1264  Link to my original post: https://www.reddit.c...   \n",
       "\n",
       "        created  \n",
       "0  1.541368e+09  \n",
       "1  1.518923e+09  \n",
       "2  1.602800e+09  \n",
       "3  1.604558e+09  \n",
       "4  1.441350e+09  "
      ]
     },
     "execution_count": 5,
     "metadata": {},
     "output_type": "execute_result"
    }
   ],
   "source": [
    "# data frame 1\n",
    "df_1 = pd.read_csv('data/posts.csv')\n",
    "\n",
    "df_1.head(5)\n",
    "\n",
    "# axis - A DataFrame object has two axes: \n",
    "# “axis 0” and “axis 1”. “axis 0” represents rows and “axis 1” represents columns. \n",
    "#Now it's clear that Series and DataFrame share the same direction for “axis 0” –\n",
    "#it goes along rows direction."
   ]
  },
  {
   "cell_type": "code",
   "execution_count": 7,
   "metadata": {},
   "outputs": [
    {
     "name": "stdout",
     "output_type": "stream",
     "text": [
      "<class 'pandas.core.frame.DataFrame'>\n",
      "RangeIndex: 1000 entries, 0 to 999\n",
      "Data columns (total 9 columns):\n",
      " #   Column        Non-Null Count  Dtype  \n",
      "---  ------        --------------  -----  \n",
      " 0   Unnamed: 0    1000 non-null   int64  \n",
      " 1   title         1000 non-null   object \n",
      " 2   score         1000 non-null   int64  \n",
      " 3   id            1000 non-null   object \n",
      " 4   subreddit     1000 non-null   object \n",
      " 5   url           1000 non-null   object \n",
      " 6   num_comments  1000 non-null   int64  \n",
      " 7   body          935 non-null    object \n",
      " 8   created       1000 non-null   float64\n",
      "dtypes: float64(1), int64(3), object(5)\n",
      "memory usage: 70.4+ KB\n"
     ]
    }
   ],
   "source": [
    "df_1.info()"
   ]
  },
  {
   "cell_type": "code",
   "execution_count": 9,
   "metadata": {},
   "outputs": [
    {
     "data": {
      "text/plain": [
       "<matplotlib.axes._subplots.AxesSubplot at 0x211c5972ac0>"
      ]
     },
     "execution_count": 9,
     "metadata": {},
     "output_type": "execute_result"
    },
    {
     "data": {
      "image/png": "[encoded data removed]",
      "text/plain": [
       "<Figure size 432x288 with 2 Axes>"
      ]
     },
     "metadata": {
      "needs_background": "light"
     },
     "output_type": "display_data"
    }
   ],
   "source": [
    "# see the missing values using seaborn\n",
    "sb.heatmap(df_1.isnull())"
   ]
  },
  {
   "cell_type": "markdown",
   "metadata": {},
   "source": [
    "### How to Handle Missing Values\n",
    "for missing values - usually you interpolate (finding the missing value using midpoint of values surrounding it), but what about something like post.body?\n",
    "\n",
    "to interpolate, do `df['name of column to format'] = df['name of column to format'].interpolate()`\n",
    "\n",
    "one option is to drop that observation with `df = df.dropna()`. \n"
   ]
  },
  {
   "cell_type": "code",
   "execution_count": 11,
   "metadata": {},
   "outputs": [
    {
     "data": {
      "text/plain": [
       "<matplotlib.axes._subplots.AxesSubplot at 0x211c61724c0>"
      ]
     },
     "execution_count": 11,
     "metadata": {},
     "output_type": "execute_result"
    },
    {
     "data": {
      "image/png": "[encoded data removed]",
      "text/plain": [
       "<Figure size 432x288 with 2 Axes>"
      ]
     },
     "metadata": {
      "needs_background": "light"
     },
     "output_type": "display_data"
    }
   ],
   "source": [
    "df_1 = df_1.dropna()\n",
    "sb.heatmap(df_1.isnull())"
   ]
  },
  {
   "cell_type": "code",
   "execution_count": 15,
   "metadata": {
    "scrolled": true
   },
   "outputs": [
    {
     "data": {
      "text/html": [
       "<div>\n",
       "<style scoped>\n",
       "    .dataframe tbody tr th:only-of-type {\n",
       "        vertical-align: middle;\n",
       "    }\n",
       "\n",
       "    .dataframe tbody tr th {\n",
       "        vertical-align: top;\n",
       "    }\n",
       "\n",
       "    .dataframe thead th {\n",
       "        text-align: right;\n",
       "    }\n",
       "</style>\n",
       "<table border=\"1\" class=\"dataframe\">\n",
       "  <thead>\n",
       "    <tr style=\"text-align: right;\">\n",
       "      <th></th>\n",
       "      <th>Unnamed: 0</th>\n",
       "      <th>title</th>\n",
       "      <th>score</th>\n",
       "      <th>id</th>\n",
       "      <th>subreddit</th>\n",
       "      <th>url</th>\n",
       "      <th>num_comments</th>\n",
       "      <th>body</th>\n",
       "      <th>created</th>\n",
       "    </tr>\n",
       "  </thead>\n",
       "  <tbody>\n",
       "    <tr>\n",
       "      <th>0</th>\n",
       "      <td>0</td>\n",
       "      <td>So real talk. Why are so may $30k to $40k per ...</td>\n",
       "      <td>12257</td>\n",
       "      <td>9u3fww</td>\n",
       "      <td>jobs</td>\n",
       "      <td>https://www.reddit.com/r/jobs/comments/9u3fww/...</td>\n",
       "      <td>3980</td>\n",
       "      <td>It just seems odd that when I go on job boards...</td>\n",
       "      <td>1.541368e+09</td>\n",
       "    </tr>\n",
       "    <tr>\n",
       "      <th>1</th>\n",
       "      <td>1</td>\n",
       "      <td>I'm an ex-recruiter for some of the top compan...</td>\n",
       "      <td>7261</td>\n",
       "      <td>7y8k6p</td>\n",
       "      <td>jobs</td>\n",
       "      <td>https://www.reddit.com/r/jobs/comments/7y8k6p/...</td>\n",
       "      <td>689</td>\n",
       "      <td>**April 5, 2020 edit:** I've been getting more...</td>\n",
       "      <td>1.518923e+09</td>\n",
       "    </tr>\n",
       "    <tr>\n",
       "      <th>2</th>\n",
       "      <td>2</td>\n",
       "      <td>A Warning About Glassdoor</td>\n",
       "      <td>5477</td>\n",
       "      <td>jbod57</td>\n",
       "      <td>jobs</td>\n",
       "      <td>https://www.reddit.com/r/jobs/comments/jbod57/...</td>\n",
       "      <td>470</td>\n",
       "      <td>**EDIT**: A little info from Glassdoor that I ...</td>\n",
       "      <td>1.602800e+09</td>\n",
       "    </tr>\n",
       "    <tr>\n",
       "      <th>3</th>\n",
       "      <td>3</td>\n",
       "      <td>America is not lacking in skilled employees, A...</td>\n",
       "      <td>3727</td>\n",
       "      <td>jo6lc7</td>\n",
       "      <td>jobs</td>\n",
       "      <td>https://www.reddit.com/r/jobs/comments/jo6lc7/...</td>\n",
       "      <td>354</td>\n",
       "      <td>If every entry level job requires a year exper...</td>\n",
       "      <td>1.604558e+09</td>\n",
       "    </tr>\n",
       "    <tr>\n",
       "      <th>4</th>\n",
       "      <td>4</td>\n",
       "      <td>UPDATE 3: I have slipped through the cracks at...</td>\n",
       "      <td>3569</td>\n",
       "      <td>3jjs1n</td>\n",
       "      <td>jobs</td>\n",
       "      <td>https://www.reddit.com/r/jobs/comments/3jjs1n/...</td>\n",
       "      <td>1264</td>\n",
       "      <td>Link to my original post: https://www.reddit.c...</td>\n",
       "      <td>1.441350e+09</td>\n",
       "    </tr>\n",
       "    <tr>\n",
       "      <th>5</th>\n",
       "      <td>5</td>\n",
       "      <td>LinkedIn has turned into a glorified Facebook</td>\n",
       "      <td>3216</td>\n",
       "      <td>i08bm3</td>\n",
       "      <td>jobs</td>\n",
       "      <td>https://www.reddit.com/r/jobs/comments/i08bm3/...</td>\n",
       "      <td>448</td>\n",
       "      <td>I'm logging into LinkedIn now more and more, a...</td>\n",
       "      <td>1.596084e+09</td>\n",
       "    </tr>\n",
       "  </tbody>\n",
       "</table>\n",
       "</div>"
      ],
      "text/plain": [
       "   Unnamed: 0                                              title  score  \\\n",
       "0           0  So real talk. Why are so may $30k to $40k per ...  12257   \n",
       "1           1  I'm an ex-recruiter for some of the top compan...   7261   \n",
       "2           2                          A Warning About Glassdoor   5477   \n",
       "3           3  America is not lacking in skilled employees, A...   3727   \n",
       "4           4  UPDATE 3: I have slipped through the cracks at...   3569   \n",
       "5           5      LinkedIn has turned into a glorified Facebook   3216   \n",
       "\n",
       "       id subreddit                                                url  \\\n",
       "0  9u3fww      jobs  https://www.reddit.com/r/jobs/comments/9u3fww/...   \n",
       "1  7y8k6p      jobs  https://www.reddit.com/r/jobs/comments/7y8k6p/...   \n",
       "2  jbod57      jobs  https://www.reddit.com/r/jobs/comments/jbod57/...   \n",
       "3  jo6lc7      jobs  https://www.reddit.com/r/jobs/comments/jo6lc7/...   \n",
       "4  3jjs1n      jobs  https://www.reddit.com/r/jobs/comments/3jjs1n/...   \n",
       "5  i08bm3      jobs  https://www.reddit.com/r/jobs/comments/i08bm3/...   \n",
       "\n",
       "   num_comments                                               body  \\\n",
       "0          3980  It just seems odd that when I go on job boards...   \n",
       "1           689  **April 5, 2020 edit:** I've been getting more...   \n",
       "2           470  **EDIT**: A little info from Glassdoor that I ...   \n",
       "3           354  If every entry level job requires a year exper...   \n",
       "4          1264  Link to my original post: https://www.reddit.c...   \n",
       "5           448  I'm logging into LinkedIn now more and more, a...   \n",
       "\n",
       "        created  \n",
       "0  1.541368e+09  \n",
       "1  1.518923e+09  \n",
       "2  1.602800e+09  \n",
       "3  1.604558e+09  \n",
       "4  1.441350e+09  \n",
       "5  1.596084e+09  "
      ]
     },
     "execution_count": 15,
     "metadata": {},
     "output_type": "execute_result"
    }
   ],
   "source": [
    "df_1.head(6)"
   ]
  },
  {
   "cell_type": "markdown",
   "metadata": {},
   "source": [
    "### Convert Categorical Values to Numeric\n",
    "\n",
    "checking which columns contain non numeric values with `df.info()`, do:\n",
    "\n",
    "step 1: make dummy variables from the categorical columns\n",
    "step 2: "
   ]
  }
 ],
 "metadata": {
  "kernelspec": {
   "display_name": "Python 3",
   "language": "python",
   "name": "python3"
  },
  "language_info": {
   "codemirror_mode": {
    "name": "ipython",
    "version": 3
   },
   "file_extension": ".py",
   "mimetype": "text/x-python",
   "name": "python",
   "nbconvert_exporter": "python",
   "pygments_lexer": "ipython3",
   "version": "3.8.3"
  }
 },
 "nbformat": 4,
 "nbformat_minor": 4
}
